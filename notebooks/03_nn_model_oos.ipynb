{
 "cells": [
  {
   "cell_type": "code",
   "execution_count": 1,
   "metadata": {},
   "outputs": [],
   "source": [
    "import os\n",
    "os.environ['TF_CPP_MIN_LOG_LEVEL'] = '3'\n",
    "import tensorflow as tf\n",
    "import matplotlib.pyplot as plt\n",
    "import numpy as np\n",
    "import pandas as pd\n",
    "from sklearn.preprocessing import LabelEncoder"
   ]
  },
  {
   "cell_type": "markdown",
   "metadata": {},
   "source": [
    "## Load data"
   ]
  },
  {
   "cell_type": "code",
   "execution_count": 2,
   "metadata": {},
   "outputs": [],
   "source": [
    "df_train = pd.read_parquet('../data/02_model_input/df_train_oos.parquet.gzip')\n",
    "df_test = pd.read_parquet('../data/02_model_input/df_test_oos.parquet.gzip')"
   ]
  },
  {
   "cell_type": "code",
   "execution_count": 3,
   "metadata": {},
   "outputs": [
    {
     "data": {
      "text/html": [
       "<div>\n",
       "<style scoped>\n",
       "    .dataframe tbody tr th:only-of-type {\n",
       "        vertical-align: middle;\n",
       "    }\n",
       "\n",
       "    .dataframe tbody tr th {\n",
       "        vertical-align: top;\n",
       "    }\n",
       "\n",
       "    .dataframe thead th {\n",
       "        text-align: right;\n",
       "    }\n",
       "</style>\n",
       "<table border=\"1\" class=\"dataframe\">\n",
       "  <thead>\n",
       "    <tr style=\"text-align: right;\">\n",
       "      <th></th>\n",
       "      <th>userId</th>\n",
       "      <th>movieId</th>\n",
       "      <th>rating</th>\n",
       "      <th>timestamp</th>\n",
       "    </tr>\n",
       "  </thead>\n",
       "  <tbody>\n",
       "    <tr>\n",
       "      <th>14008643</th>\n",
       "      <td>96763</td>\n",
       "      <td>2713</td>\n",
       "      <td>4.0</td>\n",
       "      <td>944893475</td>\n",
       "    </tr>\n",
       "    <tr>\n",
       "      <th>4465052</th>\n",
       "      <td>30519</td>\n",
       "      <td>26360</td>\n",
       "      <td>0.5</td>\n",
       "      <td>1269639265</td>\n",
       "    </tr>\n",
       "    <tr>\n",
       "      <th>2086368</th>\n",
       "      <td>14111</td>\n",
       "      <td>17</td>\n",
       "      <td>4.0</td>\n",
       "      <td>862685983</td>\n",
       "    </tr>\n",
       "    <tr>\n",
       "      <th>9538082</th>\n",
       "      <td>66021</td>\n",
       "      <td>289</td>\n",
       "      <td>5.0</td>\n",
       "      <td>830299340</td>\n",
       "    </tr>\n",
       "    <tr>\n",
       "      <th>15170315</th>\n",
       "      <td>104859</td>\n",
       "      <td>1721</td>\n",
       "      <td>4.0</td>\n",
       "      <td>951793622</td>\n",
       "    </tr>\n",
       "  </tbody>\n",
       "</table>\n",
       "</div>"
      ],
      "text/plain": [
       "          userId  movieId  rating   timestamp\n",
       "14008643   96763     2713     4.0   944893475\n",
       "4465052    30519    26360     0.5  1269639265\n",
       "2086368    14111       17     4.0   862685983\n",
       "9538082    66021      289     5.0   830299340\n",
       "15170315  104859     1721     4.0   951793622"
      ]
     },
     "execution_count": 3,
     "metadata": {},
     "output_type": "execute_result"
    }
   ],
   "source": [
    "df_train.head()"
   ]
  },
  {
   "cell_type": "markdown",
   "metadata": {},
   "source": [
    "## Encode users and movies"
   ]
  },
  {
   "cell_type": "code",
   "execution_count": 4,
   "metadata": {},
   "outputs": [
    {
     "data": {
      "text/plain": [
       "14008643     96763\n",
       "4465052      30519\n",
       "2086368      14111\n",
       "9538082      66021\n",
       "15170315    104859\n",
       "Name: userId, dtype: int64"
      ]
     },
     "execution_count": 4,
     "metadata": {},
     "output_type": "execute_result"
    }
   ],
   "source": [
    "pd.concat([df_train['userId'], df_test['userId']]).head()"
   ]
  },
  {
   "cell_type": "code",
   "execution_count": 5,
   "metadata": {},
   "outputs": [
    {
     "data": {
      "text/html": [
       "<style>#sk-container-id-1 {color: black;}#sk-container-id-1 pre{padding: 0;}#sk-container-id-1 div.sk-toggleable {background-color: white;}#sk-container-id-1 label.sk-toggleable__label {cursor: pointer;display: block;width: 100%;margin-bottom: 0;padding: 0.3em;box-sizing: border-box;text-align: center;}#sk-container-id-1 label.sk-toggleable__label-arrow:before {content: \"▸\";float: left;margin-right: 0.25em;color: #696969;}#sk-container-id-1 label.sk-toggleable__label-arrow:hover:before {color: black;}#sk-container-id-1 div.sk-estimator:hover label.sk-toggleable__label-arrow:before {color: black;}#sk-container-id-1 div.sk-toggleable__content {max-height: 0;max-width: 0;overflow: hidden;text-align: left;background-color: #f0f8ff;}#sk-container-id-1 div.sk-toggleable__content pre {margin: 0.2em;color: black;border-radius: 0.25em;background-color: #f0f8ff;}#sk-container-id-1 input.sk-toggleable__control:checked~div.sk-toggleable__content {max-height: 200px;max-width: 100%;overflow: auto;}#sk-container-id-1 input.sk-toggleable__control:checked~label.sk-toggleable__label-arrow:before {content: \"▾\";}#sk-container-id-1 div.sk-estimator input.sk-toggleable__control:checked~label.sk-toggleable__label {background-color: #d4ebff;}#sk-container-id-1 div.sk-label input.sk-toggleable__control:checked~label.sk-toggleable__label {background-color: #d4ebff;}#sk-container-id-1 input.sk-hidden--visually {border: 0;clip: rect(1px 1px 1px 1px);clip: rect(1px, 1px, 1px, 1px);height: 1px;margin: -1px;overflow: hidden;padding: 0;position: absolute;width: 1px;}#sk-container-id-1 div.sk-estimator {font-family: monospace;background-color: #f0f8ff;border: 1px dotted black;border-radius: 0.25em;box-sizing: border-box;margin-bottom: 0.5em;}#sk-container-id-1 div.sk-estimator:hover {background-color: #d4ebff;}#sk-container-id-1 div.sk-parallel-item::after {content: \"\";width: 100%;border-bottom: 1px solid gray;flex-grow: 1;}#sk-container-id-1 div.sk-label:hover label.sk-toggleable__label {background-color: #d4ebff;}#sk-container-id-1 div.sk-serial::before {content: \"\";position: absolute;border-left: 1px solid gray;box-sizing: border-box;top: 0;bottom: 0;left: 50%;z-index: 0;}#sk-container-id-1 div.sk-serial {display: flex;flex-direction: column;align-items: center;background-color: white;padding-right: 0.2em;padding-left: 0.2em;position: relative;}#sk-container-id-1 div.sk-item {position: relative;z-index: 1;}#sk-container-id-1 div.sk-parallel {display: flex;align-items: stretch;justify-content: center;background-color: white;position: relative;}#sk-container-id-1 div.sk-item::before, #sk-container-id-1 div.sk-parallel-item::before {content: \"\";position: absolute;border-left: 1px solid gray;box-sizing: border-box;top: 0;bottom: 0;left: 50%;z-index: -1;}#sk-container-id-1 div.sk-parallel-item {display: flex;flex-direction: column;z-index: 1;position: relative;background-color: white;}#sk-container-id-1 div.sk-parallel-item:first-child::after {align-self: flex-end;width: 50%;}#sk-container-id-1 div.sk-parallel-item:last-child::after {align-self: flex-start;width: 50%;}#sk-container-id-1 div.sk-parallel-item:only-child::after {width: 0;}#sk-container-id-1 div.sk-dashed-wrapped {border: 1px dashed gray;margin: 0 0.4em 0.5em 0.4em;box-sizing: border-box;padding-bottom: 0.4em;background-color: white;}#sk-container-id-1 div.sk-label label {font-family: monospace;font-weight: bold;display: inline-block;line-height: 1.2em;}#sk-container-id-1 div.sk-label-container {text-align: center;}#sk-container-id-1 div.sk-container {/* jupyter's `normalize.less` sets `[hidden] { display: none; }` but bootstrap.min.css set `[hidden] { display: none !important; }` so we also need the `!important` here to be able to override the default hidden behavior on the sphinx rendered scikit-learn.org. See: https://github.com/scikit-learn/scikit-learn/issues/21755 */display: inline-block !important;position: relative;}#sk-container-id-1 div.sk-text-repr-fallback {display: none;}</style><div id=\"sk-container-id-1\" class=\"sk-top-container\"><div class=\"sk-text-repr-fallback\"><pre>LabelEncoder()</pre><b>In a Jupyter environment, please rerun this cell to show the HTML representation or trust the notebook. <br />On GitHub, the HTML representation is unable to render, please try loading this page with nbviewer.org.</b></div><div class=\"sk-container\" hidden><div class=\"sk-item\"><div class=\"sk-estimator sk-toggleable\"><input class=\"sk-toggleable__control sk-hidden--visually\" id=\"sk-estimator-id-1\" type=\"checkbox\" checked><label for=\"sk-estimator-id-1\" class=\"sk-toggleable__label sk-toggleable__label-arrow\">LabelEncoder</label><div class=\"sk-toggleable__content\"><pre>LabelEncoder()</pre></div></div></div></div></div>"
      ],
      "text/plain": [
       "LabelEncoder()"
      ]
     },
     "execution_count": 5,
     "metadata": {},
     "output_type": "execute_result"
    }
   ],
   "source": [
    "le_user, le_movie = LabelEncoder(), LabelEncoder()\n",
    "le_user.fit(pd.concat([df_train['userId'], df_test['userId']]))\n",
    "le_movie.fit(pd.concat([df_train['movieId'], df_test['movieId']]))"
   ]
  },
  {
   "cell_type": "code",
   "execution_count": 6,
   "metadata": {},
   "outputs": [],
   "source": [
    "df_train['user_encoded'] = le_user.transform(df_train['userId'])\n",
    "df_train['movie_encoded'] = le_movie.transform(df_train['movieId'])\n",
    "\n",
    "df_test['user_encoded'] = le_user.transform(df_test['userId'])\n",
    "df_test['movie_encoded'] = le_movie.transform(df_test['movieId'])"
   ]
  },
  {
   "cell_type": "markdown",
   "metadata": {},
   "source": [
    "## Center the target"
   ]
  },
  {
   "cell_type": "code",
   "execution_count": 7,
   "metadata": {},
   "outputs": [],
   "source": [
    "df_train[\"rating_centered\"] = df_train[\"rating\"] - pd.concat([df_train['rating'], df_test['rating']]).mean()\n",
    "df_test[\"rating_centered\"] = df_test[\"rating\"] - pd.concat([df_train['rating'], df_test['rating']]).mean()"
   ]
  },
  {
   "cell_type": "markdown",
   "metadata": {},
   "source": [
    "## Define model"
   ]
  },
  {
   "cell_type": "code",
   "execution_count": 15,
   "metadata": {},
   "outputs": [],
   "source": [
    "u = tf.keras.layers.Input(shape=(1, ))\n",
    "m = tf.keras.layers.Input(shape=(1, ))\n",
    "\n",
    "u_emb = tf.keras.layers.Embedding(input_dim=len(le_user.classes_), output_dim=8)(u)\n",
    "m_emb = tf.keras.layers.Embedding(input_dim=len(le_movie.classes_), output_dim=8)(m)\n",
    "\n",
    "u_emb = tf.keras.layers.Flatten()(u_emb)\n",
    "m_emb = tf.keras.layers.Flatten()(m_emb)\n",
    "\n",
    "x = tf.keras.layers.Concatenate()([u_emb, m_emb])\n",
    "x = tf.keras.layers.Dense(32, activation='relu')(x)\n",
    "\n",
    "x = tf.keras.layers.Dense(1)(x)"
   ]
  },
  {
   "cell_type": "code",
   "execution_count": 16,
   "metadata": {},
   "outputs": [
    {
     "name": "stdout",
     "output_type": "stream",
     "text": [
      "Model: \"model_2\"\n",
      "__________________________________________________________________________________________________\n",
      " Layer (type)                Output Shape                 Param #   Connected to                  \n",
      "==================================================================================================\n",
      " input_5 (InputLayer)        [(None, 1)]                  0         []                            \n",
      "                                                                                                  \n",
      " input_6 (InputLayer)        [(None, 1)]                  0         []                            \n",
      "                                                                                                  \n",
      " embedding_4 (Embedding)     (None, 1, 8)                 1107944   ['input_5[0][0]']             \n",
      "                                                                                                  \n",
      " embedding_5 (Embedding)     (None, 1, 8)                 213952    ['input_6[0][0]']             \n",
      "                                                                                                  \n",
      " flatten_4 (Flatten)         (None, 8)                    0         ['embedding_4[0][0]']         \n",
      "                                                                                                  \n",
      " flatten_5 (Flatten)         (None, 8)                    0         ['embedding_5[0][0]']         \n",
      "                                                                                                  \n",
      " concatenate_2 (Concatenate  (None, 16)                   0         ['flatten_4[0][0]',           \n",
      " )                                                                   'flatten_5[0][0]']           \n",
      "                                                                                                  \n",
      " dense_4 (Dense)             (None, 32)                   544       ['concatenate_2[0][0]']       \n",
      "                                                                                                  \n",
      " dense_5 (Dense)             (None, 1)                    33        ['dense_4[0][0]']             \n",
      "                                                                                                  \n",
      "==================================================================================================\n",
      "Total params: 1322473 (5.04 MB)\n",
      "Trainable params: 1322473 (5.04 MB)\n",
      "Non-trainable params: 0 (0.00 Byte)\n",
      "__________________________________________________________________________________________________\n"
     ]
    }
   ],
   "source": [
    "model = tf.keras.Model(inputs=[u, m], outputs=x)\n",
    "model.compile(optimizer=tf.keras.optimizers.SGD(learning_rate=0.1, momentum=0.9, weight_decay=1e-4), loss='mse')\n",
    "model.summary()"
   ]
  },
  {
   "cell_type": "markdown",
   "metadata": {},
   "source": [
    "## Train"
   ]
  },
  {
   "cell_type": "code",
   "execution_count": 17,
   "metadata": {},
   "outputs": [
    {
     "name": "stdout",
     "output_type": "stream",
     "text": [
      "Epoch 1/15\n",
      "7813/7813 [==============================] - 61s 8ms/step - loss: 0.7726 - val_loss: 0.7223\n",
      "Epoch 2/15\n",
      "7813/7813 [==============================] - 49s 6ms/step - loss: 0.7051 - val_loss: 0.7014\n",
      "Epoch 3/15\n",
      "7813/7813 [==============================] - 50s 6ms/step - loss: 0.6877 - val_loss: 0.6895\n",
      "Epoch 4/15\n",
      "7813/7813 [==============================] - 51s 7ms/step - loss: 0.6729 - val_loss: 0.6816\n",
      "Epoch 5/15\n",
      "7813/7813 [==============================] - 50s 6ms/step - loss: 0.6624 - val_loss: 0.6760\n",
      "Epoch 6/15\n",
      "7813/7813 [==============================] - 50s 6ms/step - loss: 0.6529 - val_loss: 0.6746\n",
      "Epoch 7/15\n",
      "7813/7813 [==============================] - 52s 7ms/step - loss: 0.6441 - val_loss: 0.6650\n",
      "Epoch 8/15\n",
      "7813/7813 [==============================] - 50s 6ms/step - loss: 0.6354 - val_loss: 0.6590\n",
      "Epoch 9/15\n",
      "7813/7813 [==============================] - 50s 6ms/step - loss: 0.6248 - val_loss: 0.6532\n",
      "Epoch 10/15\n",
      "7813/7813 [==============================] - 51s 7ms/step - loss: 0.6167 - val_loss: 0.6508\n",
      "Epoch 11/15\n",
      "7813/7813 [==============================] - 52s 7ms/step - loss: 0.6112 - val_loss: 0.6494\n",
      "Epoch 12/15\n",
      "7813/7813 [==============================] - 54s 7ms/step - loss: 0.6071 - val_loss: 0.6483\n",
      "Epoch 13/15\n",
      "7813/7813 [==============================] - 54s 7ms/step - loss: 0.6040 - val_loss: 0.6488\n",
      "Epoch 14/15\n",
      "7813/7813 [==============================] - 52s 7ms/step - loss: 0.6013 - val_loss: 0.6494\n",
      "Epoch 15/15\n",
      "7813/7813 [==============================] - 51s 7ms/step - loss: 0.5991 - val_loss: 0.6463\n"
     ]
    }
   ],
   "source": [
    "r = model.fit(\n",
    "    [df_train['user_encoded'], df_train['movie_encoded']], \n",
    "    df_train['rating_centered'], \n",
    "    validation_data=([df_test['user_encoded'], df_test['movie_encoded']], df_test['rating_centered']), \n",
    "    epochs=15,\n",
    "    batch_size=2048\n",
    ")"
   ]
  },
  {
   "cell_type": "markdown",
   "metadata": {},
   "source": [
    "## Evaluate"
   ]
  },
  {
   "cell_type": "code",
   "execution_count": null,
   "metadata": {},
   "outputs": [],
   "source": []
  }
 ],
 "metadata": {
  "kernelspec": {
   "display_name": "tf",
   "language": "python",
   "name": "python3"
  },
  "language_info": {
   "codemirror_mode": {
    "name": "ipython",
    "version": 3
   },
   "file_extension": ".py",
   "mimetype": "text/x-python",
   "name": "python",
   "nbconvert_exporter": "python",
   "pygments_lexer": "ipython3",
   "version": "3.9.17"
  }
 },
 "nbformat": 4,
 "nbformat_minor": 2
}
